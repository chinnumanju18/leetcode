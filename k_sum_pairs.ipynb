{
  "nbformat": 4,
  "nbformat_minor": 0,
  "metadata": {
    "colab": {
      "provenance": []
    },
    "kernelspec": {
      "name": "python3",
      "display_name": "Python 3"
    },
    "language_info": {
      "name": "python"
    }
  },
  "cells": [
    {
      "cell_type": "code",
      "execution_count": 1,
      "metadata": {
        "colab": {
          "base_uri": "https://localhost:8080/"
        },
        "id": "p0JT7CiutN2r",
        "outputId": "3fd70850-f449-4a83-8d40-fa5a9d25afc7"
      },
      "outputs": [
        {
          "output_type": "stream",
          "name": "stdout",
          "text": [
            "2\n"
          ]
        }
      ],
      "source": [
        "class Solution:\n",
        "    def maxOperations(self, nums, k):\n",
        "        count = {}\n",
        "        operations = 0\n",
        "        for num in nums:\n",
        "            complement = k - num\n",
        "            if count.get(complement, 0) > 0:\n",
        "                operations += 1\n",
        "                count[complement] -= 1\n",
        "            else:\n",
        "                count[num] = count.get(num, 0) + 1\n",
        "        return operations\n",
        "nums = [1, 2, 3, 4]\n",
        "k = 5\n",
        "solution = Solution()\n",
        "print(solution.maxOperations(nums, k))\n"
      ]
    }
  ]
}