{
  "nbformat": 4,
  "nbformat_minor": 0,
  "metadata": {
    "colab": {
      "provenance": []
    },
    "kernelspec": {
      "name": "python3",
      "display_name": "Python 3"
    },
    "language_info": {
      "name": "python"
    }
  },
  "cells": [
    {
      "cell_type": "code",
      "execution_count": 1,
      "metadata": {
        "colab": {
          "base_uri": "https://localhost:8080/"
        },
        "id": "ilcT08wwnSAZ",
        "outputId": "798860b7-e9dd-4a59-dcd7-2a8ac6baca2c"
      },
      "outputs": [
        {
          "output_type": "stream",
          "name": "stdout",
          "text": [
            "True\n"
          ]
        }
      ],
      "source": [
        "class Solution:\n",
        "    def isSubsequence(self, s, t):\n",
        "        s_pointer, t_pointer = 0, 0\n",
        "        while t_pointer < len(t):\n",
        "            if s_pointer < len(s) and s[s_pointer] == t[t_pointer]:\n",
        "                s_pointer += 1\n",
        "            t_pointer += 1\n",
        "        return s_pointer == len(s)\n",
        "s = \"ace\"\n",
        "t = \"abcde\"\n",
        "solution = Solution()\n",
        "print(solution.isSubsequence(s, t))\n",
        "\n"
      ]
    }
  ]
}