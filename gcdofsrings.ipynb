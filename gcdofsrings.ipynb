{
  "nbformat": 4,
  "nbformat_minor": 0,
  "metadata": {
    "colab": {
      "provenance": []
    },
    "kernelspec": {
      "name": "python3",
      "display_name": "Python 3"
    },
    "language_info": {
      "name": "python"
    }
  },
  "cells": [
    {
      "cell_type": "code",
      "execution_count": 1,
      "metadata": {
        "colab": {
          "base_uri": "https://localhost:8080/"
        },
        "id": "aI4ZwP_KpvWH",
        "outputId": "52d275b3-44e4-42fd-b2e7-e3b4373d1e8b"
      },
      "outputs": [
        {
          "output_type": "stream",
          "name": "stdout",
          "text": [
            "ABC\n"
          ]
        }
      ],
      "source": [
        "class Solution:\n",
        "    def gcdOfStrings(self, str1, str2):\n",
        "        def gcd(a, b):\n",
        "            while b:\n",
        "                a, b = b, a % b\n",
        "            return a\n",
        "\n",
        "        if str1 + str2 != str2 + str1:\n",
        "            return \"\"\n",
        "\n",
        "        gcd_length = gcd(len(str1), len(str2))\n",
        "        return str1[:gcd_length]\n",
        "solution = Solution()\n",
        "str1 = \"ABCABC\"\n",
        "str2 = \"ABC\"\n",
        "print(solution.gcdOfStrings(str1, str2))\n"
      ]
    }
  ]
}