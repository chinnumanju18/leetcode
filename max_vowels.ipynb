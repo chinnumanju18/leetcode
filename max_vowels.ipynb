{
  "nbformat": 4,
  "nbformat_minor": 0,
  "metadata": {
    "colab": {
      "provenance": []
    },
    "kernelspec": {
      "name": "python3",
      "display_name": "Python 3"
    },
    "language_info": {
      "name": "python"
    }
  },
  "cells": [
    {
      "cell_type": "code",
      "execution_count": 1,
      "metadata": {
        "colab": {
          "base_uri": "https://localhost:8080/"
        },
        "id": "_PbEc8mcvKgX",
        "outputId": "e623fdcd-0dfe-4a29-8c04-2c089ca4ab62"
      },
      "outputs": [
        {
          "output_type": "stream",
          "name": "stdout",
          "text": [
            "3\n"
          ]
        }
      ],
      "source": [
        "class Solution:\n",
        "    def maxVowels(self, s, k):\n",
        "        vowels = set('aeiou')\n",
        "        max_vowels = 0\n",
        "        current_vowels = 0\n",
        "        for i in range(k):\n",
        "            if s[i] in vowels:\n",
        "                current_vowels += 1\n",
        "        max_vowels = current_vowels\n",
        "        for i in range(k, len(s)):\n",
        "            if s[i] in vowels:\n",
        "                current_vowels += 1\n",
        "            if s[i - k] in vowels:\n",
        "                current_vowels -= 1\n",
        "            max_vowels = max(max_vowels, current_vowels)\n",
        "        return max_vowels\n",
        "s = \"abciiidef\"\n",
        "k = 3\n",
        "solution = Solution()\n",
        "print(solution.maxVowels(s, k))"
      ]
    }
  ]
}