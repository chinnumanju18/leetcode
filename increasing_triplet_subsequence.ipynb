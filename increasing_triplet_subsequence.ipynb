{
  "nbformat": 4,
  "nbformat_minor": 0,
  "metadata": {
    "colab": {
      "provenance": []
    },
    "kernelspec": {
      "name": "python3",
      "display_name": "Python 3"
    },
    "language_info": {
      "name": "python"
    }
  },
  "cells": [
    {
      "cell_type": "code",
      "execution_count": 1,
      "metadata": {
        "colab": {
          "base_uri": "https://localhost:8080/"
        },
        "id": "KYjBiOR5rWRK",
        "outputId": "d8141858-3c90-4f84-c4f0-2613e364c9a0"
      },
      "outputs": [
        {
          "output_type": "stream",
          "name": "stdout",
          "text": [
            "True\n",
            "False\n"
          ]
        }
      ],
      "source": [
        "class Solution:\n",
        "    def increasingTriplet(self, nums):\n",
        "        first = second = float('inf')\n",
        "        for num in nums:\n",
        "            if num <= first:\n",
        "                first = num\n",
        "            elif num <= second:\n",
        "                second = num\n",
        "            else:\n",
        "                return True\n",
        "        return False\n",
        "\n",
        "nums = [1, 2, 3, 4, 5]\n",
        "solution = Solution()\n",
        "print(solution.increasingTriplet(nums))\n",
        "\n",
        "nums = [5, 4, 3, 2, 1]\n",
        "solution = Solution()\n",
        "print(solution.increasingTriplet(nums))\n"
      ]
    }
  ]
}