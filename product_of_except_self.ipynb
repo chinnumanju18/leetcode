{
  "nbformat": 4,
  "nbformat_minor": 0,
  "metadata": {
    "colab": {
      "provenance": []
    },
    "kernelspec": {
      "name": "python3",
      "display_name": "Python 3"
    },
    "language_info": {
      "name": "python"
    }
  },
  "cells": [
    {
      "cell_type": "code",
      "execution_count": 1,
      "metadata": {
        "colab": {
          "base_uri": "https://localhost:8080/"
        },
        "id": "w_rABpm7pucU",
        "outputId": "451a070b-84a6-4741-9135-887a62007844"
      },
      "outputs": [
        {
          "output_type": "stream",
          "name": "stdout",
          "text": [
            "[24, 12, 8, 6]\n"
          ]
        }
      ],
      "source": [
        "class Solution:\n",
        "    def productExceptSelf(self, nums):\n",
        "        n = len(nums)\n",
        "        answer = [1] * n\n",
        "        left_product = 1\n",
        "        for i in range(n):\n",
        "            answer[i] = left_product\n",
        "            left_product *= nums[i]\n",
        "        right_product = 1\n",
        "        for i in range(n - 1, -1, -1):\n",
        "            answer[i] *= right_product\n",
        "            right_product *= nums[i]\n",
        "\n",
        "        return answer\n",
        "nums = [1, 2, 3, 4]\n",
        "solution = Solution()\n",
        "print(solution.productExceptSelf(nums))\n"
      ]
    }
  ]
}