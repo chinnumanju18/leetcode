{
  "nbformat": 4,
  "nbformat_minor": 0,
  "metadata": {
    "colab": {
      "provenance": []
    },
    "kernelspec": {
      "name": "python3",
      "display_name": "Python 3"
    },
    "language_info": {
      "name": "python"
    }
  },
  "cells": [
    {
      "cell_type": "code",
      "execution_count": 1,
      "metadata": {
        "colab": {
          "base_uri": "https://localhost:8080/"
        },
        "id": "y676SAkRiS2Q",
        "outputId": "a18651bd-9bc6-4934-f6e9-1b946d98bece"
      },
      "outputs": [
        {
          "output_type": "stream",
          "name": "stdout",
          "text": [
            "[1, 3, 12, 0, 0]\n"
          ]
        }
      ],
      "source": [
        "class Solution:\n",
        "    def moveZeroes(self, nums):\n",
        "        non_zero_index = 0\n",
        "        for i in range(len(nums)):\n",
        "            if nums[i] != 0:\n",
        "                nums[non_zero_index], nums[i] = nums[i], nums[non_zero_index]\n",
        "                non_zero_index += 1\n",
        "\n",
        "nums = [0, 1, 0, 3, 12]\n",
        "ret = Solution().moveZeroes(nums)\n",
        "print(nums)\n"
      ]
    }
  ]
}