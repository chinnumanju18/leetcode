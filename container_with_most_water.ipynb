{
  "nbformat": 4,
  "nbformat_minor": 0,
  "metadata": {
    "colab": {
      "provenance": []
    },
    "kernelspec": {
      "name": "python3",
      "display_name": "Python 3"
    },
    "language_info": {
      "name": "python"
    }
  },
  "cells": [
    {
      "cell_type": "code",
      "execution_count": 1,
      "metadata": {
        "colab": {
          "base_uri": "https://localhost:8080/"
        },
        "id": "y3LRPi-Inn_E",
        "outputId": "85b92aa1-be34-4c7d-e1da-86f789346e69"
      },
      "outputs": [
        {
          "output_type": "stream",
          "name": "stdout",
          "text": [
            "49\n"
          ]
        }
      ],
      "source": [
        "class Solution:\n",
        "    def maxArea(self, height):\n",
        "        left = 0\n",
        "        right = len(height) - 1\n",
        "        max_water = 0\n",
        "        while left < right:\n",
        "            width = right - left\n",
        "            current_height = min(height[left], height[right])\n",
        "            current_area = width * current_height\n",
        "            max_water = max(max_water, current_area)\n",
        "            if height[left] < height[right]:\n",
        "                left += 1\n",
        "            else:\n",
        "                right -= 1\n",
        "        return max_water\n",
        "height = [1,8,6,2,5,4,8,3,7]\n",
        "solution = Solution()\n",
        "print(solution.maxArea(height))\n"
      ]
    }
  ]
}