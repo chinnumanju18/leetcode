{
  "nbformat": 4,
  "nbformat_minor": 0,
  "metadata": {
    "colab": {
      "provenance": []
    },
    "kernelspec": {
      "name": "python3",
      "display_name": "Python 3"
    },
    "language_info": {
      "name": "python"
    }
  },
  "cells": [
    {
      "cell_type": "code",
      "execution_count": 1,
      "metadata": {
        "colab": {
          "base_uri": "https://localhost:8080/"
        },
        "id": "FhIrsrDA5X10",
        "outputId": "8203db38-fbd0-4062-8dde-308c00c14292"
      },
      "outputs": [
        {
          "output_type": "stream",
          "name": "stdout",
          "text": [
            "7\n"
          ]
        }
      ],
      "source": [
        "class Solution:\n",
        "    def longestOnes(self, nums, k):\n",
        "        left = 0\n",
        "        max_length = 0\n",
        "        zeros_count = 0\n",
        "        for right in range(len(nums)):\n",
        "            if nums[right] == 0:\n",
        "                zeros_count += 1\n",
        "            while zeros_count > k:\n",
        "                if nums[left] == 0:\n",
        "                    zeros_count -= 1\n",
        "                left += 1\n",
        "            max_length = max(max_length, right - left + 1)\n",
        "        return max_length\n",
        "nums = [1, 1, 0, 0, 1, 1, 1, 0, 1, 1]\n",
        "k = 2\n",
        "solution = Solution()\n",
        "print(solution.longestOnes(nums, k))"
      ]
    }
  ]
}