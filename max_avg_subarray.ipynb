{
  "nbformat": 4,
  "nbformat_minor": 0,
  "metadata": {
    "colab": {
      "provenance": []
    },
    "kernelspec": {
      "name": "python3",
      "display_name": "Python 3"
    },
    "language_info": {
      "name": "python"
    }
  },
  "cells": [
    {
      "cell_type": "code",
      "execution_count": 1,
      "metadata": {
        "colab": {
          "base_uri": "https://localhost:8080/"
        },
        "id": "ThIm-1iwterE",
        "outputId": "beb1176f-6a58-4052-892d-1ad1c31d5d4b"
      },
      "outputs": [
        {
          "output_type": "stream",
          "name": "stdout",
          "text": [
            "12.75\n"
          ]
        }
      ],
      "source": [
        "class Solution:\n",
        "    def findMaxAverage(self, nums, k):\n",
        "        current_sum = sum(nums[:k])\n",
        "        max_sum = current_sum\n",
        "        for i in range(k, len(nums)):\n",
        "            current_sum += nums[i] - nums[i - k]\n",
        "            max_sum = max(max_sum, current_sum)\n",
        "        return max_sum / k\n",
        "nums = [1, 12, -5, -6, 50, 3]\n",
        "k = 4\n",
        "solution = Solution()\n",
        "print(solution.findMaxAverage(nums, k))"
      ]
    }
  ]
}