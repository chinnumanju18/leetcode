{
  "nbformat": 4,
  "nbformat_minor": 0,
  "metadata": {
    "colab": {
      "provenance": []
    },
    "kernelspec": {
      "name": "python3",
      "display_name": "Python 3"
    },
    "language_info": {
      "name": "python"
    }
  },
  "cells": [
    {
      "cell_type": "code",
      "execution_count": 1,
      "metadata": {
        "colab": {
          "base_uri": "https://localhost:8080/"
        },
        "id": "7S047znmsXm1",
        "outputId": "7d0d07a2-6cf3-4ab7-87c5-ba9c2ab85897"
      },
      "outputs": [
        {
          "output_type": "stream",
          "name": "stdout",
          "text": [
            "['a', '2', 'b', '2', 'c', '3']\n",
            "6\n"
          ]
        }
      ],
      "source": [
        "class Solution:\n",
        "    def compress(self, chars):\n",
        "        write = 0\n",
        "        read = 0\n",
        "        while read < len(chars):\n",
        "            char = chars[read]\n",
        "            count = 0\n",
        "            while read < len(chars) and chars[read] == char:\n",
        "                read += 1\n",
        "                count += 1\n",
        "            chars[write] = char\n",
        "            write += 1\n",
        "            if count > 1:\n",
        "                for digit in str(count):\n",
        "                    chars[write] = digit\n",
        "                    write += 1\n",
        "        return write\n",
        "chars = [\"a\", \"a\", \"b\", \"b\", \"c\", \"c\", \"c\"]\n",
        "solution = Solution()\n",
        "new_length = solution.compress(chars)\n",
        "print(chars[:new_length])\n",
        "print(new_length)\n"
      ]
    }
  ]
}