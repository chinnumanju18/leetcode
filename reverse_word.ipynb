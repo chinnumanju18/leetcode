{
  "nbformat": 4,
  "nbformat_minor": 0,
  "metadata": {
    "colab": {
      "provenance": []
    },
    "kernelspec": {
      "name": "python3",
      "display_name": "Python 3"
    },
    "language_info": {
      "name": "python"
    }
  },
  "cells": [
    {
      "cell_type": "code",
      "execution_count": null,
      "metadata": {
        "id": "BuZPepDLK0sh"
      },
      "outputs": [],
      "source": [
        "class Solution:\n",
        "    def reverseWords(self, s):\n",
        "        words = s.split()\n",
        "        reversed_words = words[::-1]\n",
        "        return ' '.join(reversed_words)\n",
        "s = \"  the sky is  blue  \"\n",
        "solution = Solution()\n",
        "print(solution.reverseWords(s))\n"
      ]
    }
  ]
}